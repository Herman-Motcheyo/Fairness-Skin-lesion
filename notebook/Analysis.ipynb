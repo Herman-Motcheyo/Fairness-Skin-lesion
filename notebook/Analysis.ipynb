{
 "cells": [
  {
   "cell_type": "code",
   "execution_count": 1,
   "metadata": {},
   "outputs": [],
   "source": [
    "import pandas as pd\n",
    "import numpy as np\n"
   ]
  },
  {
   "cell_type": "code",
   "execution_count": null,
   "metadata": {},
   "outputs": [],
   "source": []
  },
  {
   "cell_type": "code",
   "execution_count": 3,
   "metadata": {},
   "outputs": [],
   "source": [
    "df = pd.read_csv('../results/models/MultimodalDenseNet/fold_4/summary_metrics.csv')"
   ]
  },
  {
   "cell_type": "code",
   "execution_count": 4,
   "metadata": {},
   "outputs": [
    {
     "data": {
      "text/html": [
       "<div>\n",
       "<style scoped>\n",
       "    .dataframe tbody tr th:only-of-type {\n",
       "        vertical-align: middle;\n",
       "    }\n",
       "\n",
       "    .dataframe tbody tr th {\n",
       "        vertical-align: top;\n",
       "    }\n",
       "\n",
       "    .dataframe thead th {\n",
       "        text-align: right;\n",
       "    }\n",
       "</style>\n",
       "<table border=\"1\" class=\"dataframe\">\n",
       "  <thead>\n",
       "    <tr style=\"text-align: right;\">\n",
       "      <th></th>\n",
       "      <th>Unnamed: 0</th>\n",
       "      <th>f1_score</th>\n",
       "      <th>f1_score.1</th>\n",
       "      <th>mcc</th>\n",
       "      <th>mcc.1</th>\n",
       "    </tr>\n",
       "  </thead>\n",
       "  <tbody>\n",
       "    <tr>\n",
       "      <th>0</th>\n",
       "      <td>NaN</td>\n",
       "      <td>mean</td>\n",
       "      <td>std</td>\n",
       "      <td>mean</td>\n",
       "      <td>std</td>\n",
       "    </tr>\n",
       "    <tr>\n",
       "      <th>1</th>\n",
       "      <td>model</td>\n",
       "      <td>NaN</td>\n",
       "      <td>NaN</td>\n",
       "      <td>NaN</td>\n",
       "      <td>NaN</td>\n",
       "    </tr>\n",
       "    <tr>\n",
       "      <th>2</th>\n",
       "      <td>MultimodalDenseNet</td>\n",
       "      <td>0.6140534198814478</td>\n",
       "      <td>0.019966614168675862</td>\n",
       "      <td>0.26841946566456437</td>\n",
       "      <td>0.04218884354181973</td>\n",
       "    </tr>\n",
       "    <tr>\n",
       "      <th>3</th>\n",
       "      <td>MultimodalEfficientNet</td>\n",
       "      <td>0.8391808447487094</td>\n",
       "      <td>0.017934235480603935</td>\n",
       "      <td>0.6933159734384201</td>\n",
       "      <td>0.03420775592898802</td>\n",
       "    </tr>\n",
       "    <tr>\n",
       "      <th>4</th>\n",
       "      <td>MultimodalMobileNet</td>\n",
       "      <td>0.5586284472416305</td>\n",
       "      <td>0.03870677259249767</td>\n",
       "      <td>0.23486976103983354</td>\n",
       "      <td>0.04014361395913035</td>\n",
       "    </tr>\n",
       "    <tr>\n",
       "      <th>5</th>\n",
       "      <td>MultimodalResNet</td>\n",
       "      <td>0.7639269548943645</td>\n",
       "      <td>0.019522967210910985</td>\n",
       "      <td>0.58070466245682</td>\n",
       "      <td>0.023369667370011053</td>\n",
       "    </tr>\n",
       "    <tr>\n",
       "      <th>6</th>\n",
       "      <td>MultimodalVGG</td>\n",
       "      <td>0.6767747060304634</td>\n",
       "      <td>0.03680229919295072</td>\n",
       "      <td>0.4338905443954852</td>\n",
       "      <td>0.07017845866110223</td>\n",
       "    </tr>\n",
       "    <tr>\n",
       "      <th>7</th>\n",
       "      <td>MultimodalXception</td>\n",
       "      <td>0.5788792512242515</td>\n",
       "      <td>0.10906646186272076</td>\n",
       "      <td>0.30084363357655136</td>\n",
       "      <td>0.08172271585161507</td>\n",
       "    </tr>\n",
       "  </tbody>\n",
       "</table>\n",
       "</div>"
      ],
      "text/plain": [
       "               Unnamed: 0            f1_score            f1_score.1  \\\n",
       "0                     NaN                mean                   std   \n",
       "1                   model                 NaN                   NaN   \n",
       "2      MultimodalDenseNet  0.6140534198814478  0.019966614168675862   \n",
       "3  MultimodalEfficientNet  0.8391808447487094  0.017934235480603935   \n",
       "4     MultimodalMobileNet  0.5586284472416305   0.03870677259249767   \n",
       "5        MultimodalResNet  0.7639269548943645  0.019522967210910985   \n",
       "6           MultimodalVGG  0.6767747060304634   0.03680229919295072   \n",
       "7      MultimodalXception  0.5788792512242515   0.10906646186272076   \n",
       "\n",
       "                   mcc                 mcc.1  \n",
       "0                 mean                   std  \n",
       "1                  NaN                   NaN  \n",
       "2  0.26841946566456437   0.04218884354181973  \n",
       "3   0.6933159734384201   0.03420775592898802  \n",
       "4  0.23486976103983354   0.04014361395913035  \n",
       "5     0.58070466245682  0.023369667370011053  \n",
       "6   0.4338905443954852   0.07017845866110223  \n",
       "7  0.30084363357655136   0.08172271585161507  "
      ]
     },
     "execution_count": 4,
     "metadata": {},
     "output_type": "execute_result"
    }
   ],
   "source": [
    "df"
   ]
  },
  {
   "cell_type": "code",
   "execution_count": 5,
   "metadata": {},
   "outputs": [],
   "source": [
    "df.to_latex('../results/latex/summary_metrics.tex', index=False, float_format='%.2f')"
   ]
  }
 ],
 "metadata": {
  "kernelspec": {
   "display_name": "base",
   "language": "python",
   "name": "python3"
  },
  "language_info": {
   "codemirror_mode": {
    "name": "ipython",
    "version": 3
   },
   "file_extension": ".py",
   "mimetype": "text/x-python",
   "name": "python",
   "nbconvert_exporter": "python",
   "pygments_lexer": "ipython3",
   "version": "3.12.7"
  }
 },
 "nbformat": 4,
 "nbformat_minor": 2
}
